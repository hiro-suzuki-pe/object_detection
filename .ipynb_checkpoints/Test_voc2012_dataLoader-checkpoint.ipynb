{
 "cells": [
  {
   "cell_type": "code",
   "execution_count": 1,
   "id": "83f96704",
   "metadata": {},
   "outputs": [
    {
     "name": "stdout",
     "output_type": "stream",
     "text": [
      "./data/VOCdevkit/VOC2012/JPEGImages\\2008_000008.jpg\n",
      "./data/VOCdevkit/VOC2012/Annotations\\2008_000008.xml\n",
      "./data/VOCdevkit/VOC2012/JPEGImages\\2008_000002.jpg\n",
      "./data/VOCdevkit/VOC2012/Annotations\\2008_000002.xml\n",
      "Wall time: 138 ms\n"
     ]
    }
   ],
   "source": [
    "%%time\n",
    "\n",
    "from voc import make_filepath_list\n",
    "\n",
    "rootpath = './data/VOCdevkit/VOC2012/'\n",
    "tr_img, tr_anno, val_img, val_anno = make_filepath_list(rootpath)\n",
    "\n",
    "print(tr_img[0])\n",
    "print(tr_anno[0])\n",
    "print(val_img[0])\n",
    "print(val_anno[0])"
   ]
  },
  {
   "cell_type": "code",
   "execution_count": 8,
   "id": "bcc7d326",
   "metadata": {},
   "outputs": [
    {
     "ename": "ModuleNotFoundError",
     "evalue": "No module named 'cv'",
     "output_type": "error",
     "traceback": [
      "\u001b[1;31m---------------------------------------------------------------------------\u001b[0m",
      "\u001b[1;31mModuleNotFoundError\u001b[0m                       Traceback (most recent call last)",
      "\u001b[1;32m~\\AppData\\Local\\Temp\\ipykernel_18836\\2578712309.py\u001b[0m in \u001b[0;36m<module>\u001b[1;34m\u001b[0m\n\u001b[1;32m----> 1\u001b[1;33m \u001b[1;32mimport\u001b[0m \u001b[0mcv\u001b[0m\u001b[1;33m\u001b[0m\u001b[1;33m\u001b[0m\u001b[0m\n\u001b[0m\u001b[0;32m      2\u001b[0m \u001b[1;32mfrom\u001b[0m \u001b[0mvoc\u001b[0m \u001b[1;32mimport\u001b[0m \u001b[0mGetBBoxAndLabel\u001b[0m\u001b[1;33m\u001b[0m\u001b[1;33m\u001b[0m\u001b[0m\n\u001b[0;32m      3\u001b[0m \u001b[1;33m\u001b[0m\u001b[0m\n\u001b[0;32m      4\u001b[0m voc_labels = [\n\u001b[0;32m      5\u001b[0m     \u001b[1;34m'aeroplane'\u001b[0m\u001b[1;33m,\u001b[0m \u001b[1;34m'bicycle'\u001b[0m\u001b[1;33m,\u001b[0m \u001b[1;34m'bird'\u001b[0m\u001b[1;33m,\u001b[0m \u001b[1;34m'boat'\u001b[0m\u001b[1;33m,\u001b[0m \u001b[1;34m'bottle'\u001b[0m\u001b[1;33m,\u001b[0m\u001b[1;33m\u001b[0m\u001b[1;33m\u001b[0m\u001b[0m\n",
      "\u001b[1;31mModuleNotFoundError\u001b[0m: No module named 'cv'"
     ]
    }
   ],
   "source": [
    "import cv2\n",
    "from voc import GetBBoxAndLabel\n",
    "\n",
    "voc_labels = [\n",
    "    'aeroplane', 'bicycle', 'bird', 'boat', 'bottle',\n",
    "    'bus', 'car', 'cat', 'chair', 'cow',\n",
    "    'diningtable', 'dog', 'horse', 'motorbike',\n",
    "    'person', 'pottedplant', 'sheep', 'sofa', 'train', 'tvmonitor']\n",
    "\n",
    "annotation = GetBBoxAndLabel(voc_labels)\n",
    "\n",
    "index = 1\n",
    "img_path = val_img[index]\n",
    "img = cv2.imread(img_path)\n",
    "height, width, _ = img.shape\n",
    "\n",
    "annotation(val_anno[index], width, height)"
   ]
  },
  {
   "cell_type": "code",
   "execution_count": null,
   "id": "0ed068fc",
   "metadata": {},
   "outputs": [],
   "source": []
  },
  {
   "cell_type": "code",
   "execution_count": null,
   "id": "88f050cd",
   "metadata": {},
   "outputs": [],
   "source": []
  }
 ],
 "metadata": {
  "kernelspec": {
   "display_name": "Python 3 (ipykernel)",
   "language": "python",
   "name": "python3"
  },
  "language_info": {
   "codemirror_mode": {
    "name": "ipython",
    "version": 3
   },
   "file_extension": ".py",
   "mimetype": "text/x-python",
   "name": "python",
   "nbconvert_exporter": "python",
   "pygments_lexer": "ipython3",
   "version": "3.9.13"
  }
 },
 "nbformat": 4,
 "nbformat_minor": 5
}
