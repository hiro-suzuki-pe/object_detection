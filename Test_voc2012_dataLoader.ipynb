{
 "cells": [
  {
   "cell_type": "code",
   "execution_count": 4,
   "id": "83f96704",
   "metadata": {},
   "outputs": [
    {
     "name": "stdout",
     "output_type": "stream",
     "text": [
      "./data/VOCdevkit/VOC2012/JPEGImages\\2008_000008.jpg\n",
      "./data/VOCdevkit/VOC2012/Annotations\\2008_000008.xml\n",
      "./data/VOCdevkit/VOC2012/JPEGImages\\2008_000002.jpg\n",
      "./data/VOCdevkit/VOC2012/Annotations\\2008_000002.xml\n",
      "CPU times: total: 0 ns\n",
      "Wall time: 21.2 ms\n"
     ]
    }
   ],
   "source": [
    "%%time\n",
    "\n",
    "from voc import make_filepath_list\n",
    "\n",
    "rootpath = './data/VOCdevkit/VOC2012/'\n",
    "tr_img, tr_anno, val_img, val_anno = make_filepath_list(rootpath)\n",
    "\n",
    "print(tr_img[0])\n",
    "print(tr_anno[0])\n",
    "print(val_img[0])\n",
    "print(val_anno[0])"
   ]
  },
  {
   "cell_type": "code",
   "execution_count": 5,
   "id": "bcc7d326",
   "metadata": {},
   "outputs": [
    {
     "data": {
      "text/plain": [
       "array([[ 0.09      ,  0.03003003,  0.998     ,  0.996997  , 18.        ],\n",
       "       [ 0.122     ,  0.56756757,  0.164     ,  0.72672673, 14.        ]])"
      ]
     },
     "execution_count": 5,
     "metadata": {},
     "output_type": "execute_result"
    }
   ],
   "source": [
    "import cv2\n",
    "from voc import GetBBoxAndLabel\n",
    "\n",
    "voc_labels = [\n",
    "    'aeroplane', 'bicycle', 'bird', 'boat', 'bottle',\n",
    "    'bus', 'car', 'cat', 'chair', 'cow',\n",
    "    'diningtable', 'dog', 'horse', 'motorbike',\n",
    "    'person', 'pottedplant', 'sheep', 'sofa', 'train', 'tvmonitor']\n",
    "\n",
    "annotation = GetBBoxAndLabel(voc_labels)\n",
    "\n",
    "index = 1\n",
    "img_path = val_img[index]\n",
    "img = cv2.imread(img_path)\n",
    "height, width, _ = img.shape\n",
    "\n",
    "annotation(val_anno[index], width, height)\n",
    "\n",
    "\n"
   ]
  },
  {
   "cell_type": "code",
   "execution_count": null,
   "id": "0ed068fc",
   "metadata": {},
   "outputs": [],
   "source": []
  },
  {
   "cell_type": "code",
   "execution_count": null,
   "id": "499c7693-ba7b-4321-b9b0-5cd5de02e288",
   "metadata": {},
   "outputs": [],
   "source": []
  },
  {
   "cell_type": "code",
   "execution_count": null,
   "id": "121e0cc6-871c-4162-821f-a9b21896c5e0",
   "metadata": {},
   "outputs": [],
   "source": []
  }
 ],
 "metadata": {
  "kernelspec": {
   "display_name": "Python 3 (ipykernel)",
   "language": "python",
   "name": "python3"
  },
  "language_info": {
   "codemirror_mode": {
    "name": "ipython",
    "version": 3
   },
   "file_extension": ".py",
   "mimetype": "text/x-python",
   "name": "python",
   "nbconvert_exporter": "python",
   "pygments_lexer": "ipython3",
   "version": "3.11.5"
  }
 },
 "nbformat": 4,
 "nbformat_minor": 5
}
