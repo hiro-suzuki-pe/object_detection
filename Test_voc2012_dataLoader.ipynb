{
 "cells": [
  {
   "cell_type": "code",
   "execution_count": 3,
   "id": "83f96704",
   "metadata": {},
   "outputs": [
    {
     "name": "stdout",
     "output_type": "stream",
     "text": [
      "./data/VOCdevkit/VOC2012/JPEGImages\\2008_000008.jpg\n",
      "./data/VOCdevkit/VOC2012/Annotations\\2008_000008.xml\n",
      "./data/VOCdevkit/VOC2012/JPEGImages\\2008_000002.jpg\n",
      "./data/VOCdevkit/VOC2012/Annotations\\2008_000002.xml\n",
      "Wall time: 57.3 ms\n"
     ]
    }
   ],
   "source": [
    "%%time\n",
    "\n",
    "from voc import make_filepath_list\n",
    "\n",
    "rootpath = './data/VOCdevkit/VOC2012/'\n",
    "tr_img, tr_anno, val_img, val_anno = make_filepath_list(rootpath)\n",
    "\n",
    "print(tr_img[0])\n",
    "print(tr_anno[0])\n",
    "print(val_img[0])\n",
    "print(val_anno[0])"
   ]
  },
  {
   "cell_type": "code",
   "execution_count": null,
   "id": "bcc7d326",
   "metadata": {},
   "outputs": [],
   "source": []
  },
  {
   "cell_type": "code",
   "execution_count": null,
   "id": "0ed068fc",
   "metadata": {},
   "outputs": [],
   "source": []
  }
 ],
 "metadata": {
  "kernelspec": {
   "display_name": "Python 3 (ipykernel)",
   "language": "python",
   "name": "python3"
  },
  "language_info": {
   "codemirror_mode": {
    "name": "ipython",
    "version": 3
   },
   "file_extension": ".py",
   "mimetype": "text/x-python",
   "name": "python",
   "nbconvert_exporter": "python",
   "pygments_lexer": "ipython3",
   "version": "3.9.13"
  }
 },
 "nbformat": 4,
 "nbformat_minor": 5
}
